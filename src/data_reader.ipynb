{
 "cells": [
  {
   "cell_type": "code",
   "execution_count": 14,
   "metadata": {},
   "outputs": [],
   "source": [
    "import pandas as pd\n",
    "import numpy as np\n",
    "import glob"
   ]
  },
  {
   "cell_type": "code",
   "execution_count": 15,
   "metadata": {},
   "outputs": [],
   "source": [
    "files = glob.glob(\"../data/*.csv\")"
   ]
  },
  {
   "cell_type": "code",
   "execution_count": 16,
   "metadata": {},
   "outputs": [],
   "source": [
    "df = pd.DataFrame()\n",
    "for f in files:\n",
    "    cdf = pd.read_csv(f)\n",
    "    df = df.append(cdf)"
   ]
  },
  {
   "cell_type": "code",
   "execution_count": 17,
   "metadata": {},
   "outputs": [
    {
     "data": {
      "text/html": [
       "<div>\n",
       "<style scoped>\n",
       "    .dataframe tbody tr th:only-of-type {\n",
       "        vertical-align: middle;\n",
       "    }\n",
       "\n",
       "    .dataframe tbody tr th {\n",
       "        vertical-align: top;\n",
       "    }\n",
       "\n",
       "    .dataframe thead th {\n",
       "        text-align: right;\n",
       "    }\n",
       "</style>\n",
       "<table border=\"1\" class=\"dataframe\">\n",
       "  <thead>\n",
       "    <tr style=\"text-align: right;\">\n",
       "      <th></th>\n",
       "      <th>tweet_id</th>\n",
       "      <th>created_at</th>\n",
       "      <th>loc</th>\n",
       "      <th>text</th>\n",
       "      <th>user_id</th>\n",
       "      <th>verified</th>\n",
       "    </tr>\n",
       "  </thead>\n",
       "  <tbody>\n",
       "    <tr>\n",
       "      <th>0</th>\n",
       "      <td>1246950749415903237</td>\n",
       "      <td>2020-04-06 00:00:00+00:00</td>\n",
       "      <td>TX</td>\n",
       "      <td>twingatez dallas corona free retweet</td>\n",
       "      <td>u1167871</td>\n",
       "      <td>0</td>\n",
       "    </tr>\n",
       "    <tr>\n",
       "      <th>1</th>\n",
       "      <td>1246950753735827456</td>\n",
       "      <td>2020-04-06 00:00:01+00:00</td>\n",
       "      <td>CO</td>\n",
       "      <td>live everlogan heard this corona virus live pa...</td>\n",
       "      <td>u1167872</td>\n",
       "      <td>0</td>\n",
       "    </tr>\n",
       "    <tr>\n",
       "      <th>2</th>\n",
       "      <td>1246950754033766400</td>\n",
       "      <td>2020-04-06 00:00:01+00:00</td>\n",
       "      <td>MA</td>\n",
       "      <td>me_think_free anyone dies from corona blame de...</td>\n",
       "      <td>u624559</td>\n",
       "      <td>0</td>\n",
       "    </tr>\n",
       "    <tr>\n",
       "      <th>3</th>\n",
       "      <td>1246950755501846529</td>\n",
       "      <td>2020-04-06 00:00:01+00:00</td>\n",
       "      <td>IL</td>\n",
       "      <td>these deaths aside corona improved life drasti...</td>\n",
       "      <td>u367185</td>\n",
       "      <td>0</td>\n",
       "    </tr>\n",
       "    <tr>\n",
       "      <th>4</th>\n",
       "      <td>1246950760903999494</td>\n",
       "      <td>2020-04-06 00:00:03+00:00</td>\n",
       "      <td>NC</td>\n",
       "      <td>aptly_engineerd what going year corona 2020 in...</td>\n",
       "      <td>u114084</td>\n",
       "      <td>0</td>\n",
       "    </tr>\n",
       "  </tbody>\n",
       "</table>\n",
       "</div>"
      ],
      "text/plain": [
       "              tweet_id                 created_at loc  \\\n",
       "0  1246950749415903237  2020-04-06 00:00:00+00:00  TX   \n",
       "1  1246950753735827456  2020-04-06 00:00:01+00:00  CO   \n",
       "2  1246950754033766400  2020-04-06 00:00:01+00:00  MA   \n",
       "3  1246950755501846529  2020-04-06 00:00:01+00:00  IL   \n",
       "4  1246950760903999494  2020-04-06 00:00:03+00:00  NC   \n",
       "\n",
       "                                                text   user_id  verified  \n",
       "0               twingatez dallas corona free retweet  u1167871         0  \n",
       "1  live everlogan heard this corona virus live pa...  u1167872         0  \n",
       "2  me_think_free anyone dies from corona blame de...   u624559         0  \n",
       "3  these deaths aside corona improved life drasti...   u367185         0  \n",
       "4  aptly_engineerd what going year corona 2020 in...   u114084         0  "
      ]
     },
     "execution_count": 17,
     "metadata": {},
     "output_type": "execute_result"
    }
   ],
   "source": [
    "df.head()"
   ]
  },
  {
   "cell_type": "code",
   "execution_count": 18,
   "metadata": {},
   "outputs": [
    {
     "data": {
      "text/plain": [
       "(5945972, 6)"
      ]
     },
     "execution_count": 18,
     "metadata": {},
     "output_type": "execute_result"
    }
   ],
   "source": [
    "df.shape"
   ]
  },
  {
   "cell_type": "code",
   "execution_count": 19,
   "metadata": {},
   "outputs": [],
   "source": [
    "df.to_csv('coronavirus.csv', index=False)"
   ]
  },
  {
   "cell_type": "code",
   "execution_count": null,
   "metadata": {},
   "outputs": [],
   "source": []
  }
 ],
 "metadata": {
  "kernelspec": {
   "display_name": "Python 3",
   "language": "python",
   "name": "python3"
  },
  "language_info": {
   "codemirror_mode": {
    "name": "ipython",
    "version": 3
   },
   "file_extension": ".py",
   "mimetype": "text/x-python",
   "name": "python",
   "nbconvert_exporter": "python",
   "pygments_lexer": "ipython3",
   "version": "3.7.6"
  }
 },
 "nbformat": 4,
 "nbformat_minor": 4
}
